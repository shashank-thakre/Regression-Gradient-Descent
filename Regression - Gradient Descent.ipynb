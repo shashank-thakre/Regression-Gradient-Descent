{
 "cells": [
  {
   "cell_type": "markdown",
   "metadata": {},
   "source": [
    "## Assignment 2\n",
    "Author - Shashank Thakre"
   ]
  },
  {
   "cell_type": "code",
   "execution_count": 1,
   "metadata": {},
   "outputs": [],
   "source": [
    "# Import necessary modules\n",
    "import numpy as np\n",
    "import pandas as pd\n",
    "import matplotlib.pyplot as plt\n",
    "import seaborn as sns"
   ]
  },
  {
   "cell_type": "code",
   "execution_count": 2,
   "metadata": {},
   "outputs": [
    {
     "data": {
      "text/html": [
       "<div>\n",
       "<style scoped>\n",
       "    .dataframe tbody tr th:only-of-type {\n",
       "        vertical-align: middle;\n",
       "    }\n",
       "\n",
       "    .dataframe tbody tr th {\n",
       "        vertical-align: top;\n",
       "    }\n",
       "\n",
       "    .dataframe thead th {\n",
       "        text-align: right;\n",
       "    }\n",
       "</style>\n",
       "<table border=\"1\" class=\"dataframe\">\n",
       "  <thead>\n",
       "    <tr style=\"text-align: right;\">\n",
       "      <th></th>\n",
       "      <th>Cst_Cnt</th>\n",
       "      <th>Btl_Cnt</th>\n",
       "      <th>Sta_ID</th>\n",
       "      <th>Depth_ID</th>\n",
       "      <th>Depthm</th>\n",
       "      <th>T_degC</th>\n",
       "      <th>Salnty</th>\n",
       "      <th>O2ml_L</th>\n",
       "      <th>STheta</th>\n",
       "      <th>O2Sat</th>\n",
       "      <th>...</th>\n",
       "      <th>R_PHAEO</th>\n",
       "      <th>R_PRES</th>\n",
       "      <th>R_SAMP</th>\n",
       "      <th>DIC1</th>\n",
       "      <th>DIC2</th>\n",
       "      <th>TA1</th>\n",
       "      <th>TA2</th>\n",
       "      <th>pH2</th>\n",
       "      <th>pH1</th>\n",
       "      <th>DIC Quality Comment</th>\n",
       "    </tr>\n",
       "  </thead>\n",
       "  <tbody>\n",
       "    <tr>\n",
       "      <th>0</th>\n",
       "      <td>1</td>\n",
       "      <td>1</td>\n",
       "      <td>054.0 056.0</td>\n",
       "      <td>19-4903CR-HY-060-0930-05400560-0000A-3</td>\n",
       "      <td>0</td>\n",
       "      <td>10.50</td>\n",
       "      <td>33.440</td>\n",
       "      <td>NaN</td>\n",
       "      <td>25.649</td>\n",
       "      <td>NaN</td>\n",
       "      <td>...</td>\n",
       "      <td>NaN</td>\n",
       "      <td>0</td>\n",
       "      <td>NaN</td>\n",
       "      <td>NaN</td>\n",
       "      <td>NaN</td>\n",
       "      <td>NaN</td>\n",
       "      <td>NaN</td>\n",
       "      <td>NaN</td>\n",
       "      <td>NaN</td>\n",
       "      <td>NaN</td>\n",
       "    </tr>\n",
       "    <tr>\n",
       "      <th>1</th>\n",
       "      <td>1</td>\n",
       "      <td>2</td>\n",
       "      <td>054.0 056.0</td>\n",
       "      <td>19-4903CR-HY-060-0930-05400560-0008A-3</td>\n",
       "      <td>8</td>\n",
       "      <td>10.46</td>\n",
       "      <td>33.440</td>\n",
       "      <td>NaN</td>\n",
       "      <td>25.656</td>\n",
       "      <td>NaN</td>\n",
       "      <td>...</td>\n",
       "      <td>NaN</td>\n",
       "      <td>8</td>\n",
       "      <td>NaN</td>\n",
       "      <td>NaN</td>\n",
       "      <td>NaN</td>\n",
       "      <td>NaN</td>\n",
       "      <td>NaN</td>\n",
       "      <td>NaN</td>\n",
       "      <td>NaN</td>\n",
       "      <td>NaN</td>\n",
       "    </tr>\n",
       "    <tr>\n",
       "      <th>2</th>\n",
       "      <td>1</td>\n",
       "      <td>3</td>\n",
       "      <td>054.0 056.0</td>\n",
       "      <td>19-4903CR-HY-060-0930-05400560-0010A-7</td>\n",
       "      <td>10</td>\n",
       "      <td>10.46</td>\n",
       "      <td>33.437</td>\n",
       "      <td>NaN</td>\n",
       "      <td>25.654</td>\n",
       "      <td>NaN</td>\n",
       "      <td>...</td>\n",
       "      <td>NaN</td>\n",
       "      <td>10</td>\n",
       "      <td>NaN</td>\n",
       "      <td>NaN</td>\n",
       "      <td>NaN</td>\n",
       "      <td>NaN</td>\n",
       "      <td>NaN</td>\n",
       "      <td>NaN</td>\n",
       "      <td>NaN</td>\n",
       "      <td>NaN</td>\n",
       "    </tr>\n",
       "    <tr>\n",
       "      <th>3</th>\n",
       "      <td>1</td>\n",
       "      <td>4</td>\n",
       "      <td>054.0 056.0</td>\n",
       "      <td>19-4903CR-HY-060-0930-05400560-0019A-3</td>\n",
       "      <td>19</td>\n",
       "      <td>10.45</td>\n",
       "      <td>33.420</td>\n",
       "      <td>NaN</td>\n",
       "      <td>25.643</td>\n",
       "      <td>NaN</td>\n",
       "      <td>...</td>\n",
       "      <td>NaN</td>\n",
       "      <td>19</td>\n",
       "      <td>NaN</td>\n",
       "      <td>NaN</td>\n",
       "      <td>NaN</td>\n",
       "      <td>NaN</td>\n",
       "      <td>NaN</td>\n",
       "      <td>NaN</td>\n",
       "      <td>NaN</td>\n",
       "      <td>NaN</td>\n",
       "    </tr>\n",
       "    <tr>\n",
       "      <th>4</th>\n",
       "      <td>1</td>\n",
       "      <td>5</td>\n",
       "      <td>054.0 056.0</td>\n",
       "      <td>19-4903CR-HY-060-0930-05400560-0020A-7</td>\n",
       "      <td>20</td>\n",
       "      <td>10.45</td>\n",
       "      <td>33.421</td>\n",
       "      <td>NaN</td>\n",
       "      <td>25.643</td>\n",
       "      <td>NaN</td>\n",
       "      <td>...</td>\n",
       "      <td>NaN</td>\n",
       "      <td>20</td>\n",
       "      <td>NaN</td>\n",
       "      <td>NaN</td>\n",
       "      <td>NaN</td>\n",
       "      <td>NaN</td>\n",
       "      <td>NaN</td>\n",
       "      <td>NaN</td>\n",
       "      <td>NaN</td>\n",
       "      <td>NaN</td>\n",
       "    </tr>\n",
       "  </tbody>\n",
       "</table>\n",
       "<p>5 rows × 74 columns</p>\n",
       "</div>"
      ],
      "text/plain": [
       "   Cst_Cnt  Btl_Cnt       Sta_ID                                Depth_ID  \\\n",
       "0        1        1  054.0 056.0  19-4903CR-HY-060-0930-05400560-0000A-3   \n",
       "1        1        2  054.0 056.0  19-4903CR-HY-060-0930-05400560-0008A-3   \n",
       "2        1        3  054.0 056.0  19-4903CR-HY-060-0930-05400560-0010A-7   \n",
       "3        1        4  054.0 056.0  19-4903CR-HY-060-0930-05400560-0019A-3   \n",
       "4        1        5  054.0 056.0  19-4903CR-HY-060-0930-05400560-0020A-7   \n",
       "\n",
       "   Depthm  T_degC  Salnty  O2ml_L  STheta  O2Sat  ...  R_PHAEO  R_PRES  \\\n",
       "0       0   10.50  33.440     NaN  25.649    NaN  ...      NaN       0   \n",
       "1       8   10.46  33.440     NaN  25.656    NaN  ...      NaN       8   \n",
       "2      10   10.46  33.437     NaN  25.654    NaN  ...      NaN      10   \n",
       "3      19   10.45  33.420     NaN  25.643    NaN  ...      NaN      19   \n",
       "4      20   10.45  33.421     NaN  25.643    NaN  ...      NaN      20   \n",
       "\n",
       "   R_SAMP  DIC1  DIC2  TA1  TA2  pH2  pH1  DIC Quality Comment  \n",
       "0     NaN   NaN   NaN  NaN  NaN  NaN  NaN                  NaN  \n",
       "1     NaN   NaN   NaN  NaN  NaN  NaN  NaN                  NaN  \n",
       "2     NaN   NaN   NaN  NaN  NaN  NaN  NaN                  NaN  \n",
       "3     NaN   NaN   NaN  NaN  NaN  NaN  NaN                  NaN  \n",
       "4     NaN   NaN   NaN  NaN  NaN  NaN  NaN                  NaN  \n",
       "\n",
       "[5 rows x 74 columns]"
      ]
     },
     "execution_count": 2,
     "metadata": {},
     "output_type": "execute_result"
    }
   ],
   "source": [
    "data = pd.read_csv(\"C:/Users/shash/Documents/MScA/Courses/Spring 2021/Machine Learning/Session 1/Assignment 1/bottle.csv\", low_memory=False)\n",
    "\n",
    "#Print the data\n",
    "data.head()"
   ]
  },
  {
   "cell_type": "markdown",
   "metadata": {},
   "source": [
    "### Part A: Data Cleaning"
   ]
  },
  {
   "cell_type": "markdown",
   "metadata": {},
   "source": [
    "1) We will increase the complexity of our model slightly by increasing the number of features. Keep the following features:\n",
    "\n",
    "- T_degC (water temperature)\n",
    "- Salnty (salinity of water)\n",
    "- STheta (density of water)\n",
    "- O2ml_L (milliliters of dissolved oxygen per liter of water)\n",
    "- Depthm (depth in meters)"
   ]
  },
  {
   "cell_type": "code",
   "execution_count": 3,
   "metadata": {},
   "outputs": [
    {
     "data": {
      "text/html": [
       "<div>\n",
       "<style scoped>\n",
       "    .dataframe tbody tr th:only-of-type {\n",
       "        vertical-align: middle;\n",
       "    }\n",
       "\n",
       "    .dataframe tbody tr th {\n",
       "        vertical-align: top;\n",
       "    }\n",
       "\n",
       "    .dataframe thead th {\n",
       "        text-align: right;\n",
       "    }\n",
       "</style>\n",
       "<table border=\"1\" class=\"dataframe\">\n",
       "  <thead>\n",
       "    <tr style=\"text-align: right;\">\n",
       "      <th></th>\n",
       "      <th>T_degC</th>\n",
       "      <th>Salnty</th>\n",
       "      <th>STheta</th>\n",
       "      <th>O2ml_L</th>\n",
       "      <th>Depthm</th>\n",
       "    </tr>\n",
       "  </thead>\n",
       "  <tbody>\n",
       "    <tr>\n",
       "      <th>0</th>\n",
       "      <td>10.50</td>\n",
       "      <td>33.440</td>\n",
       "      <td>25.649</td>\n",
       "      <td>NaN</td>\n",
       "      <td>0</td>\n",
       "    </tr>\n",
       "    <tr>\n",
       "      <th>1</th>\n",
       "      <td>10.46</td>\n",
       "      <td>33.440</td>\n",
       "      <td>25.656</td>\n",
       "      <td>NaN</td>\n",
       "      <td>8</td>\n",
       "    </tr>\n",
       "    <tr>\n",
       "      <th>2</th>\n",
       "      <td>10.46</td>\n",
       "      <td>33.437</td>\n",
       "      <td>25.654</td>\n",
       "      <td>NaN</td>\n",
       "      <td>10</td>\n",
       "    </tr>\n",
       "    <tr>\n",
       "      <th>3</th>\n",
       "      <td>10.45</td>\n",
       "      <td>33.420</td>\n",
       "      <td>25.643</td>\n",
       "      <td>NaN</td>\n",
       "      <td>19</td>\n",
       "    </tr>\n",
       "    <tr>\n",
       "      <th>4</th>\n",
       "      <td>10.45</td>\n",
       "      <td>33.421</td>\n",
       "      <td>25.643</td>\n",
       "      <td>NaN</td>\n",
       "      <td>20</td>\n",
       "    </tr>\n",
       "  </tbody>\n",
       "</table>\n",
       "</div>"
      ],
      "text/plain": [
       "   T_degC  Salnty  STheta  O2ml_L  Depthm\n",
       "0   10.50  33.440  25.649     NaN       0\n",
       "1   10.46  33.440  25.656     NaN       8\n",
       "2   10.46  33.437  25.654     NaN      10\n",
       "3   10.45  33.420  25.643     NaN      19\n",
       "4   10.45  33.421  25.643     NaN      20"
      ]
     },
     "execution_count": 3,
     "metadata": {},
     "output_type": "execute_result"
    }
   ],
   "source": [
    "#Select only T_degC, Salnty, STheta columns in the data\n",
    "data = data[['T_degC', 'Salnty', 'STheta', 'O2ml_L', 'Depthm']]\n",
    "\n",
    "#print the data\n",
    "data.head()"
   ]
  },
  {
   "cell_type": "code",
   "execution_count": 4,
   "metadata": {},
   "outputs": [
    {
     "data": {
      "text/plain": [
       "(864863, 5)"
      ]
     },
     "execution_count": 4,
     "metadata": {},
     "output_type": "execute_result"
    }
   ],
   "source": [
    "data.shape"
   ]
  },
  {
   "cell_type": "markdown",
   "metadata": {},
   "source": [
    "2) Remove NaN / NA values from dataset (prior to building train/test sets) (same as HW #1):\n",
    "- Shape of your data should be: (661268, 5)"
   ]
  },
  {
   "cell_type": "code",
   "execution_count": 5,
   "metadata": {},
   "outputs": [
    {
     "data": {
      "text/plain": [
       "(661268, 5)"
      ]
     },
     "execution_count": 5,
     "metadata": {},
     "output_type": "execute_result"
    }
   ],
   "source": [
    "#Drop NAs and NANs from the data and verify the shape\n",
    "data.dropna(inplace = True)\n",
    "\n",
    "data.reset_index(drop = True, inplace = True)\n",
    "\n",
    "#Verify that the shape of data is (812174, 3)\n",
    "data.shape"
   ]
  },
  {
   "cell_type": "markdown",
   "metadata": {},
   "source": [
    "3) Remove any STheta outliers (same as HW #1).\n",
    "- Shape of your data should be: (661268, 5)\n",
    "- Note: Outliers for STheta might have been removed due to NAs in new features. Be sure to verify this on your own."
   ]
  },
  {
   "cell_type": "code",
   "execution_count": 6,
   "metadata": {},
   "outputs": [
    {
     "data": {
      "image/png": "[encoded data removed]",
      "text/plain": [
       "<Figure size 432x288 with 1 Axes>"
      ]
     },
     "metadata": {
      "needs_background": "light"
     },
     "output_type": "display_data"
    }
   ],
   "source": [
    "# Scatter: STheta (density of water) vs T_degC\n",
    "plt.scatter('STheta', 'T_degC', data = data)\n",
    "plt.xlabel(\"$STheta$\", fontsize=12)\n",
    "plt.ylabel(\"$T-degC$\", rotation=90, fontsize=12)\n",
    "plt.title('Scatter Plot of Density of water vs Temperature', fontsize=16)\n",
    "plt.show()"
   ]
  },
  {
   "cell_type": "code",
   "execution_count": 7,
   "metadata": {},
   "outputs": [
    {
     "data": {
      "text/html": [
       "<div>\n",
       "<style scoped>\n",
       "    .dataframe tbody tr th:only-of-type {\n",
       "        vertical-align: middle;\n",
       "    }\n",
       "\n",
       "    .dataframe tbody tr th {\n",
       "        vertical-align: top;\n",
       "    }\n",
       "\n",
       "    .dataframe thead th {\n",
       "        text-align: right;\n",
       "    }\n",
       "</style>\n",
       "<table border=\"1\" class=\"dataframe\">\n",
       "  <thead>\n",
       "    <tr style=\"text-align: right;\">\n",
       "      <th></th>\n",
       "      <th>T_degC</th>\n",
       "      <th>Salnty</th>\n",
       "      <th>STheta</th>\n",
       "      <th>O2ml_L</th>\n",
       "      <th>Depthm</th>\n",
       "    </tr>\n",
       "  </thead>\n",
       "  <tbody>\n",
       "  </tbody>\n",
       "</table>\n",
       "</div>"
      ],
      "text/plain": [
       "Empty DataFrame\n",
       "Columns: [T_degC, Salnty, STheta, O2ml_L, Depthm]\n",
       "Index: []"
      ]
     },
     "execution_count": 7,
     "metadata": {},
     "output_type": "execute_result"
    }
   ],
   "source": [
    "#Check if there are any records that have STheta > 200\n",
    "data[data.STheta > 200]"
   ]
  },
  {
   "cell_type": "markdown",
   "metadata": {},
   "source": [
    "The above shows that there are no outliers in STheta columns"
   ]
  },
  {
   "cell_type": "markdown",
   "metadata": {},
   "source": [
    "### Part B: Train / Test Split & Scaling"
   ]
  },
  {
   "cell_type": "markdown",
   "metadata": {},
   "source": [
    "1) Create X & y objects:\n",
    "\n",
    "- X object should be all 4 predictors. Shape should be: (661268, 4)\n",
    "\n",
    "- y object should be just your target variable (T_degC): Shape should be: (661268, 1)\n",
    "\n",
    "Hint for y: You will need to specify the shape you want. Trying converting y to a numpy array, and then using the .reshape() method."
   ]
  },
  {
   "cell_type": "code",
   "execution_count": 8,
   "metadata": {},
   "outputs": [],
   "source": [
    "#Import the necessary modules from sklearn\n",
    "from sklearn.model_selection import train_test_split"
   ]
  },
  {
   "cell_type": "code",
   "execution_count": 9,
   "metadata": {},
   "outputs": [
    {
     "name": "stdout",
     "output_type": "stream",
     "text": [
      "(661268, 4)\n",
      "(661268, 1)\n"
     ]
    }
   ],
   "source": [
    "# Create X matrix and y vector\n",
    "X = data[['Salnty','STheta', 'O2ml_L', 'Depthm']]\n",
    "y = data.T_degC\n",
    "\n",
    "# convert y to numpy array\n",
    "y = y.to_numpy()\n",
    "y = y.reshape(661268, 1)\n",
    "\n",
    "#Print the shape\n",
    "print(X.shape)\n",
    "print(y.shape)"
   ]
  },
  {
   "cell_type": "markdown",
   "metadata": {},
   "source": [
    "2) Generate X_train, X_test, y_train & y_test. Use 80% for train & 20% for test."
   ]
  },
  {
   "cell_type": "code",
   "execution_count": 10,
   "metadata": {},
   "outputs": [
    {
     "data": {
      "text/plain": [
       "((529014, 4), (132254, 4), (529014, 1), (132254, 1))"
      ]
     },
     "execution_count": 10,
     "metadata": {},
     "output_type": "execute_result"
    }
   ],
   "source": [
    "# Split the data into train and test by setting random state = 42\n",
    "X_train, X_test, y_train, y_test = train_test_split(X, y, test_size=0.2, random_state=42)\n",
    "\n",
    "# Print the shape of X_train, X_test, y_train, y_test\n",
    "X_train.shape, X_test.shape, y_train.shape, y_test.shape"
   ]
  },
  {
   "cell_type": "code",
   "execution_count": 11,
   "metadata": {},
   "outputs": [
    {
     "data": {
      "text/html": [
       "<div>\n",
       "<style scoped>\n",
       "    .dataframe tbody tr th:only-of-type {\n",
       "        vertical-align: middle;\n",
       "    }\n",
       "\n",
       "    .dataframe tbody tr th {\n",
       "        vertical-align: top;\n",
       "    }\n",
       "\n",
       "    .dataframe thead th {\n",
       "        text-align: right;\n",
       "    }\n",
       "</style>\n",
       "<table border=\"1\" class=\"dataframe\">\n",
       "  <thead>\n",
       "    <tr style=\"text-align: right;\">\n",
       "      <th></th>\n",
       "      <th>T_degC</th>\n",
       "      <th>Salnty</th>\n",
       "      <th>STheta</th>\n",
       "      <th>O2ml_L</th>\n",
       "      <th>Depthm</th>\n",
       "    </tr>\n",
       "  </thead>\n",
       "  <tbody>\n",
       "    <tr>\n",
       "      <th>0</th>\n",
       "      <td>10.300</td>\n",
       "      <td>33.0300</td>\n",
       "      <td>25.36400</td>\n",
       "      <td>5.900</td>\n",
       "      <td>0</td>\n",
       "    </tr>\n",
       "    <tr>\n",
       "      <th>1</th>\n",
       "      <td>18.460</td>\n",
       "      <td>32.9200</td>\n",
       "      <td>23.56800</td>\n",
       "      <td>6.020</td>\n",
       "      <td>6</td>\n",
       "    </tr>\n",
       "    <tr>\n",
       "      <th>2</th>\n",
       "      <td>10.290</td>\n",
       "      <td>32.9510</td>\n",
       "      <td>25.30400</td>\n",
       "      <td>6.040</td>\n",
       "      <td>10</td>\n",
       "    </tr>\n",
       "    <tr>\n",
       "      <th>3</th>\n",
       "      <td>10.290</td>\n",
       "      <td>32.9900</td>\n",
       "      <td>25.33500</td>\n",
       "      <td>6.060</td>\n",
       "      <td>15</td>\n",
       "    </tr>\n",
       "    <tr>\n",
       "      <th>4</th>\n",
       "      <td>10.330</td>\n",
       "      <td>33.0050</td>\n",
       "      <td>25.33900</td>\n",
       "      <td>6.040</td>\n",
       "      <td>20</td>\n",
       "    </tr>\n",
       "    <tr>\n",
       "      <th>...</th>\n",
       "      <td>...</td>\n",
       "      <td>...</td>\n",
       "      <td>...</td>\n",
       "      <td>...</td>\n",
       "      <td>...</td>\n",
       "    </tr>\n",
       "    <tr>\n",
       "      <th>661263</th>\n",
       "      <td>18.744</td>\n",
       "      <td>33.4083</td>\n",
       "      <td>23.87055</td>\n",
       "      <td>5.805</td>\n",
       "      <td>0</td>\n",
       "    </tr>\n",
       "    <tr>\n",
       "      <th>661264</th>\n",
       "      <td>18.744</td>\n",
       "      <td>33.4083</td>\n",
       "      <td>23.87072</td>\n",
       "      <td>5.805</td>\n",
       "      <td>2</td>\n",
       "    </tr>\n",
       "    <tr>\n",
       "      <th>661265</th>\n",
       "      <td>18.692</td>\n",
       "      <td>33.4150</td>\n",
       "      <td>23.88911</td>\n",
       "      <td>5.796</td>\n",
       "      <td>5</td>\n",
       "    </tr>\n",
       "    <tr>\n",
       "      <th>661266</th>\n",
       "      <td>18.161</td>\n",
       "      <td>33.4062</td>\n",
       "      <td>24.01426</td>\n",
       "      <td>5.816</td>\n",
       "      <td>10</td>\n",
       "    </tr>\n",
       "    <tr>\n",
       "      <th>661267</th>\n",
       "      <td>17.533</td>\n",
       "      <td>33.3880</td>\n",
       "      <td>24.15297</td>\n",
       "      <td>5.774</td>\n",
       "      <td>15</td>\n",
       "    </tr>\n",
       "  </tbody>\n",
       "</table>\n",
       "<p>661268 rows × 5 columns</p>\n",
       "</div>"
      ],
      "text/plain": [
       "        T_degC   Salnty    STheta  O2ml_L  Depthm\n",
       "0       10.300  33.0300  25.36400   5.900       0\n",
       "1       18.460  32.9200  23.56800   6.020       6\n",
       "2       10.290  32.9510  25.30400   6.040      10\n",
       "3       10.290  32.9900  25.33500   6.060      15\n",
       "4       10.330  33.0050  25.33900   6.040      20\n",
       "...        ...      ...       ...     ...     ...\n",
       "661263  18.744  33.4083  23.87055   5.805       0\n",
       "661264  18.744  33.4083  23.87072   5.805       2\n",
       "661265  18.692  33.4150  23.88911   5.796       5\n",
       "661266  18.161  33.4062  24.01426   5.816      10\n",
       "661267  17.533  33.3880  24.15297   5.774      15\n",
       "\n",
       "[661268 rows x 5 columns]"
      ]
     },
     "execution_count": 11,
     "metadata": {},
     "output_type": "execute_result"
    }
   ],
   "source": [
    "#Let's print the data\n",
    "data"
   ]
  },
  {
   "cell_type": "markdown",
   "metadata": {},
   "source": [
    "As can be seen from the above data that the values of all the columns are not on the same scale. "
   ]
  },
  {
   "cell_type": "markdown",
   "metadata": {},
   "source": [
    "3) Scale all features to improve convergence in Gradient Descent. It is highly encouraged that you review the appropriate method of handling scaling with train & test data.\n",
    "\n",
    "Additional info on scaling with train & test sets: https://stats.stackexchange.com/questions/174823/how-to-apply-standardization-normalization-to-train-and-testset-if-prediction-iLinks to an external site.\n",
    "\n",
    "The easiest approach is to use the sklearn tool \"StandardScaler\" - more info here: http://scikit-learn.org/stable/modules/generated/sklearn.preprocessing.StandardScaler.htmlLinks to an external site.\n",
    "\n",
    "You should create two new X objects:\n",
    "- X_train_scaled\n",
    "- X_test_scaled.\n",
    "\n",
    "Note: X_test_scaled must use the scaling parameters learned from training data."
   ]
  },
  {
   "cell_type": "code",
   "execution_count": 12,
   "metadata": {},
   "outputs": [],
   "source": [
    "from sklearn.preprocessing import StandardScaler\n",
    "sc = StandardScaler().fit(X_train)\n",
    "\n",
    "X_train_scaled = sc.transform(X_train)\n",
    "X_test_scaled = sc.transform (X_test)"
   ]
  },
  {
   "cell_type": "markdown",
   "metadata": {},
   "source": [
    "### Part C: Linear Regression with sklearn"
   ]
  },
  {
   "cell_type": "markdown",
   "metadata": {},
   "source": [
    "1) Create an instance of the LinearRegression class called \"lin_reg\". Fit lin_reg using X_train_scaled & y_train."
   ]
  },
  {
   "cell_type": "code",
   "execution_count": 13,
   "metadata": {},
   "outputs": [
    {
     "data": {
      "text/plain": [
       "LinearRegression()"
      ]
     },
     "execution_count": 13,
     "metadata": {},
     "output_type": "execute_result"
    }
   ],
   "source": [
    "# Make necessary imports\n",
    "from sklearn.linear_model import LinearRegression\n",
    "lin_reg = LinearRegression()\n",
    "\n",
    "#Fit the model\n",
    "lin_reg.fit(X_train_scaled, y_train)"
   ]
  },
  {
   "cell_type": "markdown",
   "metadata": {},
   "source": [
    "2) Print out the coefficients (including the intercept)"
   ]
  },
  {
   "cell_type": "code",
   "execution_count": 14,
   "metadata": {},
   "outputs": [
    {
     "name": "stdout",
     "output_type": "stream",
     "text": [
      "The intercept and coefficients are [10.91541795] and [[ 1.63046569 -4.6345913   0.3020677  -0.47495536]]\n"
     ]
    }
   ],
   "source": [
    "#print the intercept and coefficients\n",
    "print(f'The intercept and coefficients are {lin_reg.intercept_} and {lin_reg.coef_}')"
   ]
  },
  {
   "cell_type": "markdown",
   "metadata": {},
   "source": [
    "3) Predict T_degC for the test data using lin_reg. Make sure to use X_test_scaled!\n",
    "\n",
    "- Call predictions y_pred_sklearn"
   ]
  },
  {
   "cell_type": "code",
   "execution_count": 15,
   "metadata": {},
   "outputs": [
    {
     "data": {
      "text/plain": [
       "array([[16.68352894],\n",
       "       [ 8.63573844],\n",
       "       [10.70717149],\n",
       "       ...,\n",
       "       [ 6.18878341],\n",
       "       [10.95304487],\n",
       "       [16.36582647]])"
      ]
     },
     "execution_count": 15,
     "metadata": {},
     "output_type": "execute_result"
    }
   ],
   "source": [
    "# Predict the output for X_test\n",
    "y_pred_sklearn = lin_reg.predict(X_test_scaled)\n",
    "y_pred_sklearn"
   ]
  },
  {
   "cell_type": "markdown",
   "metadata": {},
   "source": [
    "4) Calculate the following for the test data:\n",
    "\n",
    "- mean squared error\n",
    "- r-squared\n",
    "- explained variance"
   ]
  },
  {
   "cell_type": "code",
   "execution_count": 16,
   "metadata": {},
   "outputs": [
    {
     "name": "stdout",
     "output_type": "stream",
     "text": [
      "The mean squared error is 0.11101117205433628\n"
     ]
    }
   ],
   "source": [
    "# Make necessary imports\n",
    "import sklearn.metrics as metrics\n",
    "\n",
    "#Print the mean squared error\n",
    "print(f'The mean squared error is {metrics.mean_squared_error(y_test, y_pred_sklearn)}')"
   ]
  },
  {
   "cell_type": "code",
   "execution_count": 17,
   "metadata": {},
   "outputs": [
    {
     "name": "stdout",
     "output_type": "stream",
     "text": [
      "The r-squared error is 0.9937682503632342\n"
     ]
    }
   ],
   "source": [
    "#Print the mean squared error\n",
    "print(f'The r-squared error is {metrics.r2_score(y_test, y_pred_sklearn)}')"
   ]
  },
  {
   "cell_type": "code",
   "execution_count": 18,
   "metadata": {},
   "outputs": [
    {
     "name": "stdout",
     "output_type": "stream",
     "text": [
      "The explained variance error is 0.9937684088237414\n"
     ]
    }
   ],
   "source": [
    "#Print the mean squared error\n",
    "print(f'The explained variance error is {metrics.explained_variance_score(y_test, y_pred_sklearn)}')"
   ]
  },
  {
   "cell_type": "markdown",
   "metadata": {},
   "source": [
    "5) Create a scatterplot that shows actual versus predicted values for the T_degC."
   ]
  },
  {
   "cell_type": "code",
   "execution_count": 19,
   "metadata": {},
   "outputs": [
    {
     "data": {
      "image/png": "[encoded data removed]",
      "text/plain": [
       "<Figure size 432x288 with 1 Axes>"
      ]
     },
     "metadata": {
      "needs_background": "light"
     },
     "output_type": "display_data"
    }
   ],
   "source": [
    "plt.scatter(y_test, y_pred_sklearn)\n",
    "plt.xlabel(\"$Actual$\", fontsize=12)\n",
    "plt.ylabel(\"$Predicted$\", rotation=90, fontsize=12)\n",
    "plt.title('Scatter Plot of actual and predicted values of temp', fontsize=16)\n",
    "\n",
    "plt.show()"
   ]
  },
  {
   "cell_type": "markdown",
   "metadata": {},
   "source": [
    "**Observation** - The above plot is showing better predictions that in assignment 1 where we only used 2 variables and didn't use standard scaler. In this case the, using a more complex model and standard scaler is giving better results."
   ]
  },
  {
   "cell_type": "markdown",
   "metadata": {},
   "source": [
    "### Part D: Gradient Descent Mini-Batch"
   ]
  },
  {
   "cell_type": "markdown",
   "metadata": {},
   "source": [
    "1) Similar to HW #1, you will need to add a column of 1s to X_train_scaled and X_test_scaled."
   ]
  },
  {
   "cell_type": "code",
   "execution_count": 20,
   "metadata": {},
   "outputs": [],
   "source": [
    "# Add ones for the intercept and run the model\n",
    "X_b = np.c_[np.ones((len(X_train_scaled), 1)), X_train_scaled]  # add x0 = 1 to each instance\n",
    "X_new_b = np.c_[np.ones((len(X_test_scaled), 1)), X_test_scaled]"
   ]
  },
  {
   "cell_type": "markdown",
   "metadata": {},
   "source": [
    "2) The cost function we will use for Gradient Descent is MSE (refer to Equation 4-3 in Hands-On Machine Learning Chapter 4).  \n",
    "\n",
    "Note: The Hands-on ML Github will be a helpful resource for solving Mini-Batch, but it does include a changing eta through using the learning_schedule function. Do not use a changing eta for this assignment, rather just use a static eta. This means you will need to make changes to the Github example for Mini-Batch.\n",
    "\n",
    "3) Feel free to use any value for eta and epochs, but 0.1 eta and 100 epochs should work fine for this HW."
   ]
  },
  {
   "cell_type": "markdown",
   "metadata": {},
   "source": [
    "Trying with mini batch of 50"
   ]
  },
  {
   "cell_type": "code",
   "execution_count": 21,
   "metadata": {},
   "outputs": [],
   "source": [
    "# Calculating with mini batch size of 50\n",
    "theta_path_mgd = []\n",
    "\n",
    "n_iterations = 100\n",
    "minibatch_size = 50\n",
    "\n",
    "np.random.seed(42)\n",
    "theta = np.random.randn(5,1)  # random initialization\n",
    "\n",
    "m = len(X_train_scaled)\n",
    "\n",
    "eta = 0.1\n",
    "cost_base = 10000000\n",
    "\n",
    "for epoch in range(n_iterations):\n",
    "    shuffled_indices = np.random.permutation(m)\n",
    "    X_b_shuffled = X_b[shuffled_indices]\n",
    "    y_shuffled = y_train[shuffled_indices]\n",
    "    for i in range(0, m, minibatch_size):\n",
    "        xi = X_b_shuffled[i:i+minibatch_size]\n",
    "        yi = y_shuffled[i:i+minibatch_size]\n",
    "        gradients = 2/minibatch_size * xi.T.dot(xi.dot(theta) - yi)\n",
    "        theta = theta - eta * gradients\n",
    "        theta_path_mgd.append(theta)\n",
    "        \n",
    "    cost = 1/minibatch_size * sum((xi.dot(theta) - yi)**2)\n",
    "    if cost < cost_base:\n",
    "        theta_base1 = theta\n",
    "        cost_base = cost\n"
   ]
  },
  {
   "cell_type": "code",
   "execution_count": 22,
   "metadata": {},
   "outputs": [
    {
     "data": {
      "text/plain": [
       "array([[10.92563908],\n",
       "       [ 1.64140458],\n",
       "       [-4.68180543],\n",
       "       [ 0.31811574],\n",
       "       [-0.48360972]])"
      ]
     },
     "execution_count": 22,
     "metadata": {},
     "output_type": "execute_result"
    }
   ],
   "source": [
    "#The intercept and coefficients from linreg are [10.91541795] and [[ 1.63046569 -4.6345913 0.3020677 -0.47495536]]\n",
    "theta_base1"
   ]
  },
  {
   "cell_type": "markdown",
   "metadata": {},
   "source": [
    "4) Calculate the following for the test data:\n",
    "\n",
    "- mean squared error\n",
    "- r-squared\n",
    "- explained variance"
   ]
  },
  {
   "cell_type": "code",
   "execution_count": 23,
   "metadata": {},
   "outputs": [
    {
     "data": {
      "text/plain": [
       "array([[16.77876468],\n",
       "       [ 8.6254346 ],\n",
       "       [10.71661809],\n",
       "       ...,\n",
       "       [ 6.12187608],\n",
       "       [10.97521356],\n",
       "       [16.45726727]])"
      ]
     },
     "execution_count": 23,
     "metadata": {},
     "output_type": "execute_result"
    }
   ],
   "source": [
    "# Predict output for theta calculated using minibatch of 50\n",
    "\n",
    "y_pred_50 = X_new_b.dot(theta_base1)\n",
    "y_pred_50"
   ]
  },
  {
   "cell_type": "code",
   "execution_count": 24,
   "metadata": {},
   "outputs": [
    {
     "name": "stdout",
     "output_type": "stream",
     "text": [
      "The mean squared error is 0.11476075299608234\n"
     ]
    }
   ],
   "source": [
    "#Print the mean squared error\n",
    "print(f'The mean squared error is {metrics.mean_squared_error(y_test, y_pred_50)}')"
   ]
  },
  {
   "cell_type": "code",
   "execution_count": 25,
   "metadata": {},
   "outputs": [
    {
     "name": "stdout",
     "output_type": "stream",
     "text": [
      "The r-squared error is 0.9935577629930054\n"
     ]
    }
   ],
   "source": [
    "#Print the mean squared error\n",
    "print(f'The r-squared error is {metrics.r2_score(y_test, y_pred_50)}')"
   ]
  },
  {
   "cell_type": "code",
   "execution_count": 26,
   "metadata": {},
   "outputs": [
    {
     "name": "stdout",
     "output_type": "stream",
     "text": [
      "The explained variance error is 0.9935619372111408\n"
     ]
    }
   ],
   "source": [
    "#Print the mean squared error\n",
    "print(f'The explained variance error is {metrics.explained_variance_score(y_test, y_pred_50)}')"
   ]
  },
  {
   "cell_type": "markdown",
   "metadata": {},
   "source": [
    "5) Create a scatterplot that shows actual versus predicted values for the T_degC for the test data."
   ]
  },
  {
   "cell_type": "code",
   "execution_count": 27,
   "metadata": {},
   "outputs": [
    {
     "data": {
      "image/png": "[encoded data removed]",
      "text/plain": [
       "<Figure size 432x288 with 1 Axes>"
      ]
     },
     "metadata": {
      "needs_background": "light"
     },
     "output_type": "display_data"
    }
   ],
   "source": [
    "plt.scatter(y_test, y_pred_50)\n",
    "plt.xlabel(\"$Actual$\", fontsize=12)\n",
    "plt.ylabel(\"$Predicted$\", rotation=90, fontsize=12)\n",
    "plt.title('Scatter Plot of actual and predicted values of temp', fontsize=16)\n",
    "\n",
    "plt.show()"
   ]
  },
  {
   "cell_type": "markdown",
   "metadata": {},
   "source": [
    "**Observation** - The predictions are coming very close to what we got from the linear regression model"
   ]
  },
  {
   "cell_type": "markdown",
   "metadata": {},
   "source": [
    "6) Given we are estimating parameters through gradient descent we also want to check how our error metrics look for training data. Calculate the following for the training data:\n",
    "\n",
    "- mean squared error\n",
    "- r-squared\n",
    "- explained variance"
   ]
  },
  {
   "cell_type": "code",
   "execution_count": 28,
   "metadata": {},
   "outputs": [
    {
     "data": {
      "text/plain": [
       "array([[11.28377081],\n",
       "       [ 7.42160389],\n",
       "       [13.95680793],\n",
       "       ...,\n",
       "       [15.47563358],\n",
       "       [ 5.04002009],\n",
       "       [ 8.27162758]])"
      ]
     },
     "execution_count": 28,
     "metadata": {},
     "output_type": "execute_result"
    }
   ],
   "source": [
    "y_pred_train_50 = X_b.dot(theta_base1)\n",
    "y_pred_train_50"
   ]
  },
  {
   "cell_type": "code",
   "execution_count": 29,
   "metadata": {},
   "outputs": [
    {
     "name": "stdout",
     "output_type": "stream",
     "text": [
      "The mean squared error is 0.11431589367939103\n",
      "The r-squared error is 0.9935974679989088\n",
      "The explained variance error is 0.9936033191725722\n"
     ]
    }
   ],
   "source": [
    "#Print the mean squared error\n",
    "print(f'The mean squared error is {metrics.mean_squared_error(y_train, y_pred_train_50)}')\n",
    "\n",
    "#Print the mean squared error\n",
    "print(f'The r-squared error is {metrics.r2_score(y_train, y_pred_train_50)}')\n",
    "\n",
    "#Print the mean squared error\n",
    "print(f'The explained variance error is {metrics.explained_variance_score(y_train, y_pred_train_50)}')"
   ]
  },
  {
   "cell_type": "markdown",
   "metadata": {},
   "source": [
    "Trying with mini batch of 250"
   ]
  },
  {
   "cell_type": "code",
   "execution_count": 30,
   "metadata": {},
   "outputs": [],
   "source": [
    "theta_path_mgd = []\n",
    "\n",
    "n_iterations = 100\n",
    "minibatch_size = 250\n",
    "\n",
    "np.random.seed(42)\n",
    "theta = np.random.randn(5,1)  # random initialization\n",
    "\n",
    "m = len(X_train_scaled)\n",
    "\n",
    "eta = 0.1\n",
    "\n",
    "cost_base = 10000000\n",
    "\n",
    "for epoch in range(n_iterations):\n",
    "    shuffled_indices = np.random.permutation(m)\n",
    "    X_b_shuffled = X_b[shuffled_indices]\n",
    "    y_shuffled = y_train[shuffled_indices]\n",
    "    for i in range(0, m, minibatch_size):\n",
    "        xi = X_b_shuffled[i:i+minibatch_size]\n",
    "        yi = y_shuffled[i:i+minibatch_size]\n",
    "        gradients = 2/minibatch_size * xi.T.dot(xi.dot(theta) - yi)\n",
    "        theta = theta - eta * gradients\n",
    "        theta_path_mgd.append(theta)\n",
    "        \n",
    "    cost = 1/minibatch_size * sum((xi.dot(theta) - yi)**2)\n",
    "    \n",
    "    if cost < cost_base:\n",
    "        theta_base2 = theta\n",
    "        cost_base = cost"
   ]
  },
  {
   "cell_type": "code",
   "execution_count": 31,
   "metadata": {},
   "outputs": [
    {
     "data": {
      "text/plain": [
       "array([[10.92183833],\n",
       "       [ 1.63133626],\n",
       "       [-4.66319882],\n",
       "       [ 0.31354857],\n",
       "       [-0.45439976]])"
      ]
     },
     "execution_count": 31,
     "metadata": {},
     "output_type": "execute_result"
    }
   ],
   "source": [
    "#The intercept and coefficients  from linreg are [10.91541795] and [[ 1.63046569 -4.6345913 0.3020677 -0.47495536]]\n",
    "theta_base2"
   ]
  },
  {
   "cell_type": "markdown",
   "metadata": {},
   "source": [
    "4) Calculate the following for the test data:\n",
    "\n",
    "- mean squared error\n",
    "- r-squared\n",
    "- explained variance"
   ]
  },
  {
   "cell_type": "code",
   "execution_count": 32,
   "metadata": {},
   "outputs": [
    {
     "data": {
      "text/plain": [
       "array([[16.73687833],\n",
       "       [ 8.62372229],\n",
       "       [10.70368415],\n",
       "       ...,\n",
       "       [ 6.16385447],\n",
       "       [10.96576412],\n",
       "       [16.41849037]])"
      ]
     },
     "execution_count": 32,
     "metadata": {},
     "output_type": "execute_result"
    }
   ],
   "source": [
    "# Predict output for theta calculated using minibatch of 50\n",
    "\n",
    "y_pred_250 = X_new_b.dot(theta_base2)\n",
    "y_pred_250"
   ]
  },
  {
   "cell_type": "code",
   "execution_count": 33,
   "metadata": {},
   "outputs": [
    {
     "name": "stdout",
     "output_type": "stream",
     "text": [
      "The mean squared error is 0.11198768793850807\n"
     ]
    }
   ],
   "source": [
    "#Print the mean squared error\n",
    "print(f'The mean squared error is {metrics.mean_squared_error(y_test, y_pred_250)}')"
   ]
  },
  {
   "cell_type": "code",
   "execution_count": 34,
   "metadata": {},
   "outputs": [
    {
     "name": "stdout",
     "output_type": "stream",
     "text": [
      "The r-squared error is 0.9937134324346072\n"
     ]
    }
   ],
   "source": [
    "#Print the mean squared error\n",
    "print(f'The r-squared error is {metrics.r2_score(y_test, y_pred_250)}')"
   ]
  },
  {
   "cell_type": "code",
   "execution_count": 35,
   "metadata": {},
   "outputs": [
    {
     "name": "stdout",
     "output_type": "stream",
     "text": [
      "The explained variance error is 0.993714672875981\n"
     ]
    }
   ],
   "source": [
    "#Print the mean squared error\n",
    "print(f'The explained variance error is {metrics.explained_variance_score(y_test, y_pred_250)}')"
   ]
  },
  {
   "cell_type": "markdown",
   "metadata": {},
   "source": [
    "5) Create a scatterplot that shows actual versus predicted values for the T_degC for the test data."
   ]
  },
  {
   "cell_type": "code",
   "execution_count": 36,
   "metadata": {},
   "outputs": [
    {
     "data": {
      "image/png": "[encoded data removed]",
      "text/plain": [
       "<Figure size 432x288 with 1 Axes>"
      ]
     },
     "metadata": {
      "needs_background": "light"
     },
     "output_type": "display_data"
    }
   ],
   "source": [
    "plt.scatter(y_test, y_pred_250)\n",
    "plt.xlabel(\"$Actual$\", fontsize=12)\n",
    "plt.ylabel(\"$Predicted$\", rotation=90, fontsize=12)\n",
    "plt.title('Scatter Plot of actual and predicted values of temp', fontsize=16)\n",
    "\n",
    "plt.show()"
   ]
  },
  {
   "cell_type": "markdown",
   "metadata": {},
   "source": [
    "**Observation** - The predictions are coming very close to what we got from the linear regression model"
   ]
  },
  {
   "cell_type": "code",
   "execution_count": 37,
   "metadata": {},
   "outputs": [
    {
     "data": {
      "text/plain": [
       "array([[11.27311207],\n",
       "       [ 7.44093586],\n",
       "       [13.92516408],\n",
       "       ...,\n",
       "       [15.43600434],\n",
       "       [ 5.11031626],\n",
       "       [ 8.27124261]])"
      ]
     },
     "execution_count": 37,
     "metadata": {},
     "output_type": "execute_result"
    }
   ],
   "source": [
    "y_pred_train_250 = X_b.dot(theta_base2)\n",
    "y_pred_train_250"
   ]
  },
  {
   "cell_type": "code",
   "execution_count": 38,
   "metadata": {},
   "outputs": [
    {
     "name": "stdout",
     "output_type": "stream",
     "text": [
      "The mean squared error is 0.11150519839249466\n",
      "The r-squared error is 0.9937548876362003\n",
      "The explained variance error is 0.9937571963374106\n"
     ]
    }
   ],
   "source": [
    "#Print the mean squared error\n",
    "print(f'The mean squared error is {metrics.mean_squared_error(y_train, y_pred_train_250)}')\n",
    "\n",
    "#Print the mean squared error\n",
    "print(f'The r-squared error is {metrics.r2_score(y_train, y_pred_train_250)}')\n",
    "\n",
    "#Print the mean squared error\n",
    "print(f'The explained variance error is {metrics.explained_variance_score(y_train, y_pred_train_250)}')"
   ]
  },
  {
   "cell_type": "markdown",
   "metadata": {},
   "source": [
    "Trying with a minibatch size of 2000"
   ]
  },
  {
   "cell_type": "code",
   "execution_count": 39,
   "metadata": {},
   "outputs": [],
   "source": [
    "theta_path_mgd = []\n",
    "\n",
    "n_iterations = 100\n",
    "minibatch_size = 2000\n",
    "\n",
    "np.random.seed(42)\n",
    "theta = np.random.randn(5,1)  # random initialization\n",
    "\n",
    "m = len(X_train_scaled)\n",
    "\n",
    "eta = 0.1\n",
    "cost_base = 10000000\n",
    "\n",
    "for epoch in range(n_iterations):\n",
    "    shuffled_indices = np.random.permutation(m)\n",
    "    X_b_shuffled = X_b[shuffled_indices]\n",
    "    y_shuffled = y_train[shuffled_indices]\n",
    "    for i in range(0, m, minibatch_size):\n",
    "        xi = X_b_shuffled[i:i+minibatch_size]\n",
    "        yi = y_shuffled[i:i+minibatch_size]\n",
    "        gradients = 2/minibatch_size * xi.T.dot(xi.dot(theta) - yi)\n",
    "        theta = theta - eta * gradients\n",
    "        theta_path_mgd.append(theta)\n",
    "        \n",
    "    cost = 1/minibatch_size * sum((xi.dot(theta) - yi)**2)\n",
    "    if cost < cost_base:\n",
    "        theta_base3 = theta\n",
    "        cost_base = cost"
   ]
  },
  {
   "cell_type": "code",
   "execution_count": 40,
   "metadata": {
    "scrolled": true
   },
   "outputs": [
    {
     "data": {
      "text/plain": [
       "array([[10.91638425],\n",
       "       [ 1.62222905],\n",
       "       [-4.63107929],\n",
       "       [ 0.29627335],\n",
       "       [-0.49235293]])"
      ]
     },
     "execution_count": 40,
     "metadata": {},
     "output_type": "execute_result"
    }
   ],
   "source": [
    "#The intercept and coefficients  from linreg are [10.91541795] and [[ 1.63046569 -4.6345913 0.3020677 -0.47495536]]\n",
    "theta_base3"
   ]
  },
  {
   "cell_type": "markdown",
   "metadata": {},
   "source": [
    "4) Calculate the following for the test data:\n",
    "\n",
    "- mean squared error\n",
    "- r-squared\n",
    "- explained variance"
   ]
  },
  {
   "cell_type": "code",
   "execution_count": 41,
   "metadata": {},
   "outputs": [
    {
     "data": {
      "text/plain": [
       "array([[16.69563033],\n",
       "       [ 8.63964668],\n",
       "       [10.71658911],\n",
       "       ...,\n",
       "       [ 6.17765497],\n",
       "       [10.95669243],\n",
       "       [16.37716303]])"
      ]
     },
     "execution_count": 41,
     "metadata": {},
     "output_type": "execute_result"
    }
   ],
   "source": [
    "# Predict output for theta calculated using minibatch of 50\n",
    "\n",
    "y_pred_2000 = X_new_b.dot(theta_base3)\n",
    "y_pred_2000"
   ]
  },
  {
   "cell_type": "code",
   "execution_count": 42,
   "metadata": {},
   "outputs": [
    {
     "name": "stdout",
     "output_type": "stream",
     "text": [
      "The mean squared error is 0.11131012388572654\n"
     ]
    }
   ],
   "source": [
    "#Print the mean squared error\n",
    "print(f'The mean squared error is {metrics.mean_squared_error(y_test, y_pred_2000)}')"
   ]
  },
  {
   "cell_type": "code",
   "execution_count": 43,
   "metadata": {},
   "outputs": [
    {
     "name": "stdout",
     "output_type": "stream",
     "text": [
      "The r-squared error is 0.9937514683319107\n"
     ]
    }
   ],
   "source": [
    "#Print the mean squared error\n",
    "print(f'The r-squared error is {metrics.r2_score(y_test, y_pred_2000)}')"
   ]
  },
  {
   "cell_type": "code",
   "execution_count": 44,
   "metadata": {},
   "outputs": [
    {
     "name": "stdout",
     "output_type": "stream",
     "text": [
      "The explained variance error is 0.9937514948436814\n"
     ]
    }
   ],
   "source": [
    "#Print the mean squared error\n",
    "print(f'The explained variance error is {metrics.explained_variance_score(y_test, y_pred_2000)}')"
   ]
  },
  {
   "cell_type": "markdown",
   "metadata": {},
   "source": [
    "5) Create a scatterplot that shows actual versus predicted values for the T_degC for the test data."
   ]
  },
  {
   "cell_type": "code",
   "execution_count": 45,
   "metadata": {},
   "outputs": [
    {
     "data": {
      "image/png": "[encoded data removed]",
      "text/plain": [
       "<Figure size 432x288 with 1 Axes>"
      ]
     },
     "metadata": {
      "needs_background": "light"
     },
     "output_type": "display_data"
    }
   ],
   "source": [
    "plt.scatter(y_test, y_pred_2000)\n",
    "plt.xlabel(\"$Actual$\", fontsize=12)\n",
    "plt.ylabel(\"$Predicted$\", rotation=90, fontsize=12)\n",
    "plt.title('Scatter Plot of actual and predicted values of temp', fontsize=16)\n",
    "\n",
    "plt.show()"
   ]
  },
  {
   "cell_type": "markdown",
   "metadata": {},
   "source": [
    "**Observation** - The predictions are coming very close to what we got from the linear regression model"
   ]
  },
  {
   "cell_type": "code",
   "execution_count": 46,
   "metadata": {},
   "outputs": [
    {
     "data": {
      "text/plain": [
       "array([[11.2602134 ],\n",
       "       [ 7.46083037],\n",
       "       [13.90336448],\n",
       "       ...,\n",
       "       [15.40642274],\n",
       "       [ 5.09461783],\n",
       "       [ 8.27689486]])"
      ]
     },
     "execution_count": 46,
     "metadata": {},
     "output_type": "execute_result"
    }
   ],
   "source": [
    "y_pred_train_2000 = X_b.dot(theta_base3)\n",
    "y_pred_train_2000"
   ]
  },
  {
   "cell_type": "code",
   "execution_count": 47,
   "metadata": {},
   "outputs": [
    {
     "name": "stdout",
     "output_type": "stream",
     "text": [
      "The mean squared error is 0.11089284916524977\n",
      "The r-squared error is 0.9937891837029772\n",
      "The explained variance error is 0.9937892359995973\n"
     ]
    }
   ],
   "source": [
    "#Print the mean squared error\n",
    "print(f'The mean squared error is {metrics.mean_squared_error(y_train, y_pred_train_2000)}')\n",
    "\n",
    "#Print the mean squared error\n",
    "print(f'The r-squared error is {metrics.r2_score(y_train, y_pred_train_2000)}')\n",
    "\n",
    "#Print the mean squared error\n",
    "print(f'The explained variance error is {metrics.explained_variance_score(y_train, y_pred_train_2000)}')"
   ]
  },
  {
   "cell_type": "markdown",
   "metadata": {},
   "source": [
    "### Part E: Conceptual Questions"
   ]
  },
  {
   "cell_type": "markdown",
   "metadata": {},
   "source": [
    "#### 1) Describe how parameter estimation in Gradient Descent differs from using the normal equation.\n",
    "\n",
    "###### Answer\n",
    "In the normal equation, we do not have to estimate any parameters. The normal equation takes the feautres and always provides a solution that best fits the data.\n",
    "On the other hand, the gradient descent minimizes the cost function to get a near approximate solution for fitting the data. In gradient descent, we have to estimate some random values of theta as a starting point and estimate some values for the learning rate eta $η$, and the number of iterations that we want to run the algorithm $epoch$."
   ]
  },
  {
   "cell_type": "markdown",
   "metadata": {},
   "source": [
    "#### 2) We used Mini-Batch Gradient descent here, but there are a variety of options for Gradient Descent. How is Mini-Batch Gradient Descent different from Stochastic Gradient Descent?\n",
    "\n",
    "##### Answer\n",
    "Stochastic Gradient Descent just picks a random instance in the training set at every step and computes the gradients\n",
    "based only on that single instance. Due to its stochastic (i.e., random) nature, this algorithm is much\n",
    "less regular than Batch Gradient Descent: instead of gently decreasing until it reaches\n",
    "the minimum, the cost function will bounce up and down, decreasing only on average.\n",
    "Mini Batch gradient descent, instead of computing the gradients based on the full training set (as in Batch GD) or based on just one instance (as in Stochastic GD), Mini-batch GD computes the gradients on small random sets of instances called minibatches. This gives better results than Stochastic gradient descent as it uses multiple data points to calculate the gradients."
   ]
  },
  {
   "cell_type": "markdown",
   "metadata": {},
   "source": [
    "#### 3) Identify your best-performing version of Gradient Descent and compare the error metrics for test data vs training data. Does this version of gradient descent show signs of overfitting? Explain.\n",
    "\n",
    "##### Answer\n",
    "The best performing gradient descent model the one that used the 2000 mini batch size.   \n",
    "The test error metrics are:  \n",
    "The mean squared error is 0.11131012388572654  \n",
    "The r-squared error is 0.9937514683319107  \n",
    "The explained variance error is 0.9937514948436814  \n",
    "\n",
    "The training error metrics are:  \n",
    "The mean squared error is 0.11089284916524977  \n",
    "The r-squared error is 0.9937891837029772  \n",
    "The explained variance error is 0.9937892359995973  \n",
    "\n",
    "**Explanation** - R-Square is the proportion of dependent variable that can be explained by the independent variable. If the training r-squared was much higher than the test r-squared the the model would have been overfit. In the case of Gradient Descent with minibatch of 2000, the r-squared error for test and train is very close, indicating that there is no overfit. "
   ]
  },
  {
   "cell_type": "markdown",
   "metadata": {},
   "source": [
    "#### 4) Explain what the learning rate is for. Even though we did not, why might it be helpful to change the learning rate over time?\n",
    "\n",
    "##### Answer \n",
    "The learning rate is a hyperparameter that controls how much to change the model in response to the estimated error each time the model weights are updated. The learning rate is multiplied to the gradient vector to determine the size of the downhill step.\n",
    "It might be helpful to change the learning rate over time as the result gets closer to the final solution so that the process stops very close to the actual minima of the cost function and not bounce around."
   ]
  },
  {
   "cell_type": "markdown",
   "metadata": {},
   "source": [
    "#### 5) Why would a data scientist want to use early stopping in gradient descent? \n",
    "\n",
    "##### Answer\n",
    "Gradient descent trains on the data in an iterative way. Iterative methods update the learner so as to make it better fit the training data with each iteration. Up to a point, this improves the learner's performance on data outside of the training set. Past that point, however, improving the learner's fit to the training data comes at the expense of increased generalization error. Hence to avoid overfitting and generalization error, early stopping can be employed."
   ]
  }
 ],
 "metadata": {
  "kernelspec": {
   "display_name": "Python 3",
   "language": "python",
   "name": "python3"
  },
  "language_info": {
   "codemirror_mode": {
    "name": "ipython",
    "version": 3
   },
   "file_extension": ".py",
   "mimetype": "text/x-python",
   "name": "python",
   "nbconvert_exporter": "python",
   "pygments_lexer": "ipython3",
   "version": "3.7.6"
  }
 },
 "nbformat": 4,
 "nbformat_minor": 4
}
